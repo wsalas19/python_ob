{
 "cells": [
  {
   "cell_type": "code",
   "execution_count": 1,
   "metadata": {},
   "outputs": [
    {
     "name": "stdout",
     "output_type": "stream",
     "text": [
      "Your IMC is: 44.44\n"
     ]
    }
   ],
   "source": [
    "weight = input('Please enter your weight: ')\n",
    "height = input('Please enter your height: ')\n",
    "\n",
    "def imc_calculation(w,h):\n",
    "    height = float(h)\n",
    "    weight = int(w)\n",
    "    return weight / height\n",
    "\n",
    "imc = imc_calculation(weight, height)\n",
    "\n",
    "result = 'Your IMC is: %s' % (round(imc,2))\n",
    "\n",
    "print(result)"
   ]
  },
  {
   "cell_type": "code",
   "execution_count": 10,
   "metadata": {},
   "outputs": [
    {
     "name": "stdout",
     "output_type": "stream",
     "text": [
      "fizzbuzz 0\n",
      "fizzbuzz 3\n",
      "buzz 5\n",
      "fizzbuzz 6\n",
      "fizzbuzz 9\n",
      "buzz 10\n",
      "fizzbuzz 12\n",
      "fizzbuzz 15\n",
      "fizzbuzz 18\n",
      "buzz 20\n",
      "fizzbuzz 21\n",
      "fizzbuzz 24\n",
      "buzz 25\n",
      "fizzbuzz 27\n",
      "fizzbuzz 30\n",
      "fizzbuzz 33\n",
      "buzz 35\n",
      "fizzbuzz 36\n",
      "fizzbuzz 39\n",
      "buzz 40\n",
      "fizzbuzz 42\n",
      "fizzbuzz 45\n",
      "fizzbuzz 48\n",
      "buzz 50\n",
      "fizzbuzz 51\n",
      "fizzbuzz 54\n",
      "buzz 55\n",
      "fizzbuzz 57\n",
      "fizzbuzz 60\n",
      "fizzbuzz 63\n",
      "buzz 65\n",
      "fizzbuzz 66\n",
      "fizzbuzz 69\n",
      "buzz 70\n",
      "fizzbuzz 72\n",
      "fizzbuzz 75\n",
      "fizzbuzz 78\n",
      "buzz 80\n",
      "fizzbuzz 81\n",
      "fizzbuzz 84\n",
      "buzz 85\n",
      "fizzbuzz 87\n",
      "fizzbuzz 90\n",
      "fizzbuzz 93\n",
      "buzz 95\n",
      "fizzbuzz 96\n",
      "fizzbuzz 99\n",
      "buzz 100\n"
     ]
    }
   ],
   "source": [
    "a = [1,2,3,4,5,6]\n",
    "\n",
    "def fizzbuzz():\n",
    "    \n",
    "    for contador in range(101):\n",
    "        if contador%3==0 & contador%5==0:\n",
    "            print('fizzbuzz', contador)\n",
    "        elif contador%3==0:\n",
    "            print('fizz', contador)\n",
    "        elif contador%5==0:\n",
    "            print('buzz', contador)\n",
    "\n",
    "fizzbuzz()"
   ]
  }
 ],
 "metadata": {
  "kernelspec": {
   "display_name": "Python 3",
   "language": "python",
   "name": "python3"
  },
  "language_info": {
   "codemirror_mode": {
    "name": "ipython",
    "version": 3
   },
   "file_extension": ".py",
   "mimetype": "text/x-python",
   "name": "python",
   "nbconvert_exporter": "python",
   "pygments_lexer": "ipython3",
   "version": "3.11.3"
  },
  "orig_nbformat": 4
 },
 "nbformat": 4,
 "nbformat_minor": 2
}
