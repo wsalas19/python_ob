{
 "cells": [
  {
   "cell_type": "code",
   "execution_count": null,
   "metadata": {},
   "outputs": [],
   "source": [
    "weight = input('Please enter your weight: ')\n",
    "height = input('Please enter your height: ')\n",
    "\n",
    "def imc_calculation(w,h):\n",
    "    height = float(h)\n",
    "    weight = int(w)\n",
    "    return weight / height\n",
    "\n",
    "imc = imc_calculation(weight, height)\n",
    "\n",
    "result = 'Your IMC is: %s' % (round(imc,2))\n",
    "\n",
    "print(result)"
   ]
  },
  {
   "cell_type": "code",
   "execution_count": 1,
   "metadata": {},
   "outputs": [
    {
     "name": "stdout",
     "output_type": "stream",
     "text": [
      "1992 is a leap-year\n",
      "1991 is not a leap-year\n"
     ]
    }
   ],
   "source": [
    "def leap_year(year):\n",
    "    if year%4==0:\n",
    "        print(\"%s is a leap-year\" % year)\n",
    "    else:\n",
    "        print(\"%s is not a leap-year\" % year)\n",
    "\n",
    "\n",
    "leap_year(1992)\n",
    "leap_year(1991)\n"
   ]
  },
  {
   "cell_type": "code",
   "execution_count": null,
   "metadata": {},
   "outputs": [],
   "source": [
    "def fizzbuzz():\n",
    "    \n",
    "    for contador in range(101):\n",
    "        if contador%3==0 & contador%5==0:\n",
    "            print('fizzbuzz', contador)\n",
    "        elif contador%3==0:\n",
    "            print('fizz', contador)\n",
    "        elif contador%5==0:\n",
    "            print('buzz', contador)\n",
    "\n",
    "fizzbuzz()"
   ]
  },
  {
   "cell_type": "code",
   "execution_count": null,
   "metadata": {},
   "outputs": [],
   "source": [
    "def numbers_to_100():\n",
    "    for number in range(100,0,-1):\n",
    "        print(number)\n",
    "\n",
    "numbers_to_100();"
   ]
  }
 ],
 "metadata": {
  "kernelspec": {
   "display_name": "Python 3",
   "language": "python",
   "name": "python3"
  },
  "language_info": {
   "codemirror_mode": {
    "name": "ipython",
    "version": 3
   },
   "file_extension": ".py",
   "mimetype": "text/x-python",
   "name": "python",
   "nbconvert_exporter": "python",
   "pygments_lexer": "ipython3",
   "version": "3.11.3"
  },
  "orig_nbformat": 4
 },
 "nbformat": 4,
 "nbformat_minor": 2
}
