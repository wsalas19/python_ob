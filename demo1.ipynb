{
 "cells": [
  {
   "cell_type": "code",
   "execution_count": 1,
   "metadata": {},
   "outputs": [
    {
     "name": "stdout",
     "output_type": "stream",
     "text": [
      "Your IMC is: 44.44\n"
     ]
    }
   ],
   "source": [
    "weight = input('Please enter your weight: ')\n",
    "height = input('Please enter your height: ')\n",
    "\n",
    "def imc_calculation(w,h):\n",
    "    height = float(h)\n",
    "    weight = int(w)\n",
    "    return weight / height\n",
    "\n",
    "imc = imc_calculation(weight, height)\n",
    "\n",
    "result = 'Your IMC is: %s' % (round(imc,2))\n",
    "\n",
    "print(result)"
   ]
  }
 ],
 "metadata": {
  "kernelspec": {
   "display_name": "Python 3",
   "language": "python",
   "name": "python3"
  },
  "language_info": {
   "codemirror_mode": {
    "name": "ipython",
    "version": 3
   },
   "file_extension": ".py",
   "mimetype": "text/x-python",
   "name": "python",
   "nbconvert_exporter": "python",
   "pygments_lexer": "ipython3",
   "version": "3.11.3"
  },
  "orig_nbformat": 4
 },
 "nbformat": 4,
 "nbformat_minor": 2
}
